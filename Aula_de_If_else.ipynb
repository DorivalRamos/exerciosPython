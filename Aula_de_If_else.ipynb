{
  "nbformat": 4,
  "nbformat_minor": 0,
  "metadata": {
    "colab": {
      "name": "Aula de If/else.ipynb",
      "provenance": [],
      "authorship_tag": "ABX9TyPUaid4l/RNaG+F5iRpNhYq",
      "include_colab_link": true
    },
    "kernelspec": {
      "name": "python3",
      "display_name": "Python 3"
    },
    "language_info": {
      "name": "python"
    }
  },
  "cells": [
    {
      "cell_type": "markdown",
      "metadata": {
        "id": "view-in-github",
        "colab_type": "text"
      },
      "source": [
        "<a href=\"https://colab.research.google.com/github/DorivalRamos/exerciosPython/blob/main/Aula_de_If_else.ipynb\" target=\"_parent\"><img src=\"https://colab.research.google.com/assets/colab-badge.svg\" alt=\"Open In Colab\"/></a>"
      ]
    },
    {
      "cell_type": "code",
      "metadata": {
        "colab": {
          "base_uri": "https://localhost:8080/"
        },
        "id": "wuqVShuADSbb",
        "outputId": "cafe87bc-fe1e-4adb-c92b-1663f7cdc856"
      },
      "source": [
        "n1 = int(input(\"Digite o valor : \"))\n",
        "\n",
        "if n1 % 2 == 0 :\n",
        "  print(\"Seu numero é par\")\n",
        "else :\n",
        "  print(\"Seu numero é impar\")"
      ],
      "execution_count": 19,
      "outputs": [
        {
          "output_type": "stream",
          "text": [
            "Digite o valor : 3\n",
            "Seu numero é impar\n"
          ],
          "name": "stdout"
        }
      ]
    },
    {
      "cell_type": "code",
      "metadata": {
        "colab": {
          "base_uri": "https://localhost:8080/"
        },
        "id": "WaWrkzdlEInN",
        "outputId": "5fd82e45-df37-4b03-e69f-7d8de7f52920"
      },
      "source": [
        "n1 = float(input(\"Digite um valor : \"))\n",
        "\n",
        "if n1 == 0 :\n",
        "  print(\"Seu numero é zero\")\n",
        "elif n1 >= 1:\n",
        "  print(\"Seu neumro é positivo\")\n",
        "else :\n",
        "  print(\"Seu numero é negativo\")\n",
        "\n"
      ],
      "execution_count": 24,
      "outputs": [
        {
          "output_type": "stream",
          "text": [
            "Digite um valor : 0\n",
            "Seu numero é zero\n"
          ],
          "name": "stdout"
        }
      ]
    },
    {
      "cell_type": "code",
      "metadata": {
        "colab": {
          "base_uri": "https://localhost:8080/"
        },
        "id": "57NkCMBEHitI",
        "outputId": "569f241d-e89c-4a08-c86b-d406fbbc4298"
      },
      "source": [
        "n1 = float(input(\"Digite um valor : \"))\n",
        "print(\"Seu numero é zero\") if n1 <= 0 else print(\"positivo\") if n1 >= 0 else print(\"negativo\")"
      ],
      "execution_count": 38,
      "outputs": [
        {
          "output_type": "stream",
          "text": [
            "Digite um valor : 0\n",
            "Seu numero é zero\n"
          ],
          "name": "stdout"
        }
      ]
    },
    {
      "cell_type": "code",
      "metadata": {
        "colab": {
          "base_uri": "https://localhost:8080/"
        },
        "id": "plBCehdXPONn",
        "outputId": "61e0e2e0-7c07-421b-c503-b6ffba038208"
      },
      "source": [
        "n1 = float(input(\"Digite o primeiro numero : \"))\n",
        "n2 = float(input(\"Digite o segundo numero : \"))\n",
        "if n1 == n2:\n",
        "  print(\"Numeros iguais\")\n",
        "elif n1 > n2:\n",
        "  print(f\"{n1} é maior que {n2}\")\n",
        "else:\n",
        "  print(f\"{n2} é maior que {n1}\")"
      ],
      "execution_count": 45,
      "outputs": [
        {
          "output_type": "stream",
          "text": [
            "Digite o primeiro numero : 3\n",
            "Digite o segundo numero : 2\n",
            "3.0 é maior que 2.0\n"
          ],
          "name": "stdout"
        }
      ]
    },
    {
      "cell_type": "code",
      "metadata": {
        "colab": {
          "base_uri": "https://localhost:8080/"
        },
        "id": "AUArEX3iQXfS",
        "outputId": "180d003a-e3b4-49c9-946c-ab67b13fae60"
      },
      "source": [
        "n = str(input(\"Digite a palavra: \")).lower()\n",
        "if n[-1] == \"a\":\n",
        "  print(\"Feminino\")\n",
        "elif n[-1] == \"o\":\n",
        "  print(\"Masculino\")\n",
        "else :\n",
        "  print(\"Sexo biologico não definido\")"
      ],
      "execution_count": 55,
      "outputs": [
        {
          "output_type": "stream",
          "text": [
            "Digite a palavra: o\n",
            "Masculino\n"
          ],
          "name": "stdout"
        }
      ]
    }
  ]
}