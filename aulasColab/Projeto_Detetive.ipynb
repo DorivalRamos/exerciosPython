{
  "nbformat": 4,
  "nbformat_minor": 0,
  "metadata": {
    "colab": {
      "name": "Untitled1.ipynb",
      "provenance": [],
      "authorship_tag": "ABX9TyOTwrLeuH4MqZ2mNqzsAOH/",
      "include_colab_link": true
    },
    "kernelspec": {
      "name": "python3",
      "display_name": "Python 3"
    },
    "language_info": {
      "name": "python"
    }
  },
  "cells": [
    {
      "cell_type": "markdown",
      "metadata": {
        "id": "view-in-github",
        "colab_type": "text"
      },
      "source": [
        "<a href=\"https://colab.research.google.com/github/DorivalRamos/exerciosPython/blob/main/Projeto_Detetive.ipynb\" target=\"_parent\"><img src=\"https://colab.research.google.com/assets/colab-badge.svg\" alt=\"Open In Colab\"/></a>"
      ]
    },
    {
      "cell_type": "code",
      "metadata": {
        "colab": {
          "base_uri": "https://localhost:8080/"
        },
        "id": "CtbfB-7aykvy",
        "outputId": "b9bba03d-c510-469c-e21f-f2a20696a1f8"
      },
      "source": [
        "n = print('''Você esta sobre invertigação de um Assassinato, responda com cuidado!!!\n",
        "e com a penas [S/N]''')\n",
        "p1 = input(\"Você telefonou para a vítima? \").lower()[0]\n",
        "p2 = input(\"Você esteve no local do crime? \").lower()[0]\n",
        "p3 = input(\"Você mora perto da vitima? \").lower()[0]\n",
        "p4 = input(\"Você devia para a vitima? \").lower()[0]\n",
        "p5 = input(\"Você já trabalhou com a vitima? \").lower()[0]\n",
        "\n",
        "n2 = 0\n",
        "\n",
        "if p1 == \"s\":\n",
        "  n2 += 1\n",
        "if p2 == \"s\":\n",
        "  n2 += 1\n",
        "if p3 == \"s\":\n",
        "  n2 += 1\n",
        "if p4 == \"s\":\n",
        "  n2 += 1\n",
        "if p5 == \"s\":\n",
        "  n2 += 1  \n",
        "print(n2)\n",
        "\n",
        "if n2 <= 1:\n",
        "  print(\"Inocente\")\n",
        "elif n2 == 2:\n",
        "  print(\"Suspeita\")\n",
        "elif n2 == 5:\n",
        "  print(\"Assassino\")\n",
        "else:\n",
        "  print(\n",
        "    \"Cúmplice\"\n",
        "  )"
      ],
      "execution_count": 19,
      "outputs": [
        {
          "output_type": "stream",
          "text": [
            "Você esta sobre invertigação de um Assassinato, responda com cuidado!!!\n",
            "e com a penas [S/N]\n",
            "Você telefonou para a vítima? s\n",
            "Você esteve no local do crime? s\n",
            "Você mora perto da vitima? s\n",
            "Você devia para a vitima? n\n",
            "Você já trabalhou com a vitima? n\n",
            "3\n",
            "Cúmplice\n"
          ],
          "name": "stdout"
        }
      ]
    }
  ]
}