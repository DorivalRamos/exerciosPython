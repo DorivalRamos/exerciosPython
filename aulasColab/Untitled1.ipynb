{
  "nbformat": 4,
  "nbformat_minor": 0,
  "metadata": {
    "colab": {
      "name": "Untitled1.ipynb",
      "provenance": [],
      "authorship_tag": "ABX9TyPDnXEhy8tpkpjQLZXSKDDg",
      "include_colab_link": true
    },
    "kernelspec": {
      "name": "python3",
      "display_name": "Python 3"
    },
    "language_info": {
      "name": "python"
    }
  },
  "cells": [
    {
      "cell_type": "markdown",
      "metadata": {
        "id": "view-in-github",
        "colab_type": "text"
      },
      "source": [
        "<a href=\"https://colab.research.google.com/github/DorivalRamos/exerciosPython/blob/main/Untitled1.ipynb\" target=\"_parent\"><img src=\"https://colab.research.google.com/assets/colab-badge.svg\" alt=\"Open In Colab\"/></a>"
      ]
    },
    {
      "cell_type": "code",
      "metadata": {
        "colab": {
          "base_uri": "https://localhost:8080/"
        },
        "id": "CtbfB-7aykvy",
        "outputId": "15871db3-a6f2-4ade-83d3-15e137038762"
      },
      "source": [
        "n = print('''Você esta sobre invertigação de um Assassinato, responda com cuidado!!!\n",
        "e com a penas [S/N]''')\n",
        "p1 = input(\"Você telefonou para a vítima?\").lower().strip()[0]\n",
        "p2 = input(\"Você esteve no local do crime ?\").lower().strip()[0]\n",
        "p3 = input(\"Você mora perto da vitima? \").lower().strip()[0]\n",
        "p4 = input(\"Você devia para a vitima? \").lower().strip()[0]\n",
        "p5 = input(\"Você já trabalhou com a vitima ?\").lower().strip()[0]\n",
        "r1 = 0\n",
        "\n",
        "if p1 == \"s\":\n",
        "  r1 += 1\n",
        "if p2 == \"s\":\n",
        "  r1 += 1\n",
        "if p3 == \"s\":\n",
        "  r1 += 1\n",
        "if p4 == \"s\":\n",
        "  r1 += 1\n",
        "if p5 == \"s\":\n",
        "  r1 += 1\n",
        "\n",
        "print(r1) \n",
        "\n",
        "if r1 <= 1:\n",
        "  print(\"Inocente\")\n",
        "elif r1 == 2:\n",
        "  print(\"Suspeita\")\n",
        "elif r1 == 5:\n",
        "  print(\"Assassino\")\n",
        "else:\n",
        "  print(\n",
        "    \"Cúmplice\"\n",
        "  )"
      ],
      "execution_count": 23,
      "outputs": [
        {
          "output_type": "stream",
          "text": [
            "Você esta sobre invertigação de um Assassinato, responda com cuidado!!!\n",
            "e com a penas [S/N]\n",
            "Você telefonou para a vítima?n\n",
            "Você esteve no local do crime ?n\n",
            "Você mora perto da vitima? n\n",
            "Você devia para a vitima? n\n",
            "Você já trabalhou com a vitima ?n\n",
            "0\n",
            "Inocente\n"
          ],
          "name": "stdout"
        }
      ]
    }
  ]
}