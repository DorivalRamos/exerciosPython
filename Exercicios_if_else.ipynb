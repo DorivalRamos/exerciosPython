{
  "nbformat": 4,
  "nbformat_minor": 0,
  "metadata": {
    "colab": {
      "name": "Exercicios-if/else.ipynb",
      "provenance": [],
      "include_colab_link": true
    },
    "kernelspec": {
      "name": "python3",
      "display_name": "Python 3"
    },
    "language_info": {
      "name": "python"
    }
  },
  "cells": [
    {
      "cell_type": "markdown",
      "metadata": {
        "id": "view-in-github",
        "colab_type": "text"
      },
      "source": [
        "<a href=\"https://colab.research.google.com/github/DorivalRamos/exerciosPython/blob/main/Exercicios_if_else.ipynb\" target=\"_parent\"><img src=\"https://colab.research.google.com/assets/colab-badge.svg\" alt=\"Open In Colab\"/></a>"
      ]
    },
    {
      "cell_type": "markdown",
      "metadata": {
        "id": "SW-cnnj3AAlE"
      },
      "source": [
        "## Exercício 01\n",
        "\n",
        "Faça um programa que pergunte ao usuário um número e valide se o numero é par ou impar:\n",
        "\n",
        "* Crie uma variável para receber o valor, com conversão para int\n",
        "* Para um número ser par, a divisão dele por 2 tem que dar resto 0"
      ]
    },
    {
      "cell_type": "code",
      "metadata": {
        "id": "ZeuCDPZQFT9T"
      },
      "source": [
        ""
      ],
      "execution_count": null,
      "outputs": []
    },
    {
      "cell_type": "markdown",
      "metadata": {
        "id": "jXVUBuN3DcU-"
      },
      "source": [
        "## Exercício 02\n",
        "\n",
        "> Parte 1\n",
        "\n",
        "Faça um script que peça um valor e mostre na tela se o valor é positivo ou negativo.\n",
        "\n",
        "> Parte 2\n",
        "\n",
        "Agora implemente a funcionalidade de não aceitar o número 0, no input. (esse vai além do explicado até agora)"
      ]
    },
    {
      "cell_type": "code",
      "metadata": {
        "id": "bsM4V6SeHwJr"
      },
      "source": [
        ""
      ],
      "execution_count": null,
      "outputs": []
    },
    {
      "cell_type": "markdown",
      "metadata": {
        "id": "90mUizLXOKd3"
      },
      "source": [
        "## Exercício 03\n",
        "\n",
        "Faça um programa que peça dois números, imprima o maior deles ou imprima \"Numeros iguais\" se os números forem iguais."
      ]
    },
    {
      "cell_type": "code",
      "metadata": {
        "id": "7yXB2kfUVYuD"
      },
      "source": [
        ""
      ],
      "execution_count": null,
      "outputs": []
    },
    {
      "cell_type": "markdown",
      "metadata": {
        "id": "9BATv7tsOWOI"
      },
      "source": [
        "## Exercício 04\n",
        "\n",
        "Crie um programa que verifique se uma letra digitada é \"F\" ou \"M\". Conforme a letra, escrever: F - Feminino, M - Masculino, caso escreva outra letra: Sexo Biológico Inválido."
      ]
    },
    {
      "cell_type": "code",
      "metadata": {
        "id": "pRm8kyI7Wnp4"
      },
      "source": [
        ""
      ],
      "execution_count": null,
      "outputs": []
    },
    {
      "cell_type": "markdown",
      "metadata": {
        "id": "WX2j2ITtY3G5"
      },
      "source": [
        "### Exercício 05\n",
        "\n",
        "Crie um programa em Python que peça a nota do aluno, que deve ser um float entre 0.00 e 10.0\n",
        "\n",
        "* Se a nota for menor que 6.0, deve exibir a nota F.\n",
        "\n",
        "* Se a nota for de 6.0 até 7.0, deve exibir a nota D.\n",
        "\n",
        "* Se a nota for entre 7.0 e 8.0, deve exibir a nota C.\n",
        "\n",
        "* Se a nota for entre 8.0 e 9.0, deve exibir a nota B.\n",
        "\n",
        "* Por fim, se for entre 9.0 e 10.0, deve exibir um belo de um A."
      ]
    },
    {
      "cell_type": "code",
      "metadata": {
        "id": "4CjqLlFWY5Z-",
        "colab": {
          "base_uri": "https://localhost:8080/"
        },
        "outputId": "29e6fcbb-0866-4101-96c4-23c1d74c7af1"
      },
      "source": [
        "n = float(input(\"Digite a nota do aluno entre 0 a 10 : \").replace(\",\",\".\"))\n",
        "if n > 10 or n < 0:\n",
        "  print(\"nota invalida\")\n",
        "elif n >= 9:\n",
        "  print(\"Nota A\")\n",
        "elif n >= 8:\n",
        "  print(\"Nota B\")\n",
        "elif n >=7:\n",
        "  print(\"Nota C\")\n",
        "elif n >=6:\n",
        "  print(\"Nota D\")\n",
        "else:\n",
        "  print(\"Nota F\")"
      ],
      "execution_count": 10,
      "outputs": [
        {
          "output_type": "stream",
          "text": [
            "Digite a nota do aluno entre 0 a 10 : 6\n",
            "Nota D\n"
          ],
          "name": "stdout"
        }
      ]
    },
    {
      "cell_type": "markdown",
      "metadata": {
        "id": "xep4W_T-s-Ra"
      },
      "source": [
        "# *Mini Projetos*"
      ]
    },
    {
      "cell_type": "markdown",
      "metadata": {
        "id": "4YbMlSEZG7UM"
      },
      "source": [
        "## **PROJETO 01**\n",
        "\n",
        "*   Escreva um programa que receba uma string digitada pelo usuário;\n",
        "*   Caso a string seja \"medieval\", exiba no console \"espada\";\n",
        "*   Caso contrário, se a string for \"futurista\", exiba no console \"sabre de luz\";\n",
        "*   Caso contrário, exiba no console \"Tente novamente\""
      ]
    },
    {
      "cell_type": "code",
      "metadata": {
        "id": "tn9QH5pVG8Rq"
      },
      "source": [
        "# Resposta:\n"
      ],
      "execution_count": null,
      "outputs": []
    },
    {
      "cell_type": "markdown",
      "metadata": {
        "id": "zUGk1OiNHDik"
      },
      "source": [
        "## **PROJETO 02**\n",
        "\n",
        "* Escreva um programa que receba um ataque de espada ou sabre digitada pelo usuário;\n",
        "\n",
        "* Caso o ataque seja \"espada\", exiba no console \"VOCÊ AINDA NÃO MATOU O CHEFÃO\";\n",
        "\n",
        "* Caso contrário, se o ataque for \"sabre\", exiba no console \"VOCÊ DERROTOU O CHEFÃO COM O SABRE DE LUZ\";\n",
        "\n",
        "* Caso contrário, exiba no console \"ATAQUE NOVAMENTE\""
      ]
    },
    {
      "cell_type": "code",
      "metadata": {
        "id": "eNZokIIOHHkp"
      },
      "source": [
        "# Resposta:"
      ],
      "execution_count": null,
      "outputs": []
    },
    {
      "cell_type": "markdown",
      "metadata": {
        "id": "NRhLAMa6ZfqU"
      },
      "source": [
        "## **DESAFIO 01**\n",
        "\n",
        "**Reajuste salarial**\n",
        "\n",
        "As empresas @.com resolveram dar um aumento de salário aos seus colaboradores e lhe contrataram para desenvolver o programa que calculará os reajustes.\n",
        "\n",
        "Faça um programa que recebe o salário de um colaborador e o reajuste segundo o seguinte critério, baseado no salário atual:\n",
        "* salários até R$ 280,00 (incluindo) : aumento de 20%\n",
        "\n",
        "* salários entre R\\$ 280,00 e R$ 700,00 : aumento de 15%\n",
        "\n",
        "* salários entre R\\$ 700,00 e R$ 1500,00 : aumento de 10%\n",
        "\n",
        "* salários de R$ 1500,00 em diante : aumento de 5% \n",
        "\n",
        "Após o aumento ser realizado, informe na tela:\n",
        "* o salário antes do reajuste;\n",
        "\n",
        "* o percentual de aumento aplicado;\n",
        "\n",
        "* o valor do aumento;\n",
        "\n",
        "* o novo salário, após o aumento.\""
      ]
    },
    {
      "cell_type": "code",
      "metadata": {
        "id": "VpC5oZINZXzt",
        "colab": {
          "base_uri": "https://localhost:8080/"
        },
        "outputId": "2e2346a8-4d53-4a4a-e225-d4ee6ba94534"
      },
      "source": [
        "n1 = float(input(\"Digite o valor do seu salario : R$ \").replace(\",\",'.'))\n",
        "if n1 <= 280:\n",
        "  print(f'''\n",
        "  O seu salario é R${n1}\n",
        "  A porcentagem do aumento 20%\n",
        "  Você vai receber R${n1 * 0.20 }\n",
        "  O seu novo salario é de R${n1 * 1.20 }\n",
        "  ''')\n",
        "elif n1 <= 700:\n",
        "  print(f'''\n",
        "  O seu salario é R${n1}\n",
        "  A porcentagem do aumento 15%\n",
        "  Você vai receber R${n1 * 0.15 }\n",
        "  O seu novo salario é de R${n1 * 1.15 }\n",
        "  ''')\n",
        "else :\n",
        "  print(f'''\n",
        "  O seu salario é R${n1}\n",
        "  A porcentagem do aumento 5%\n",
        "  Você vai receber R${n1 * 0.05 }\n",
        "  O seu novo salario é de {n1 * 1.05 }\n",
        "  ''')"
      ],
      "execution_count": 17,
      "outputs": [
        {
          "output_type": "stream",
          "text": [
            "Digite o valor do seu salario : R$ 1500\n",
            "\n",
            "  O seu salario é R$1500.0\n",
            "  A porcentagem do aumento 5%\n",
            "  Você vai receber R$75.0\n",
            "  O seu novo salario é de 1575.0\n",
            "  \n"
          ],
          "name": "stdout"
        }
      ]
    },
    {
      "cell_type": "markdown",
      "metadata": {
        "id": "HvThpbU4aBGy"
      },
      "source": [
        "## **DESAFIO 02**\n",
        "\n",
        "**Jogo da adivinhação**\n",
        "\n",
        "Escreva um programa que faça o computador “pensar” em um número inteiro entre 0 e 10 e peça para o usuário tentar descobrir qual foi o número escolhido pelo computador. O programa deverá escrever na tela se o usuário venceu ou perdeu."
      ]
    },
    {
      "cell_type": "code",
      "metadata": {
        "id": "TVeHZbyQZIzO",
        "colab": {
          "base_uri": "https://localhost:8080/"
        },
        "outputId": "e84ebc00-d166-478b-c4a9-9267daac6d28"
      },
      "source": [
        "import random\n",
        "n = int(input(\"Descubra se você acerta qual numero eu estou pensando entre 0 e 10: \"))\n",
        "n2 = random.randrange(0,10)\n",
        "if n == m1:\n",
        "  print(f\"Você escolheu {n} e venceu!!!\")\n",
        "else:\n",
        "  print(f\"Você escolheu {n} e Perdeu\"\"\")"
      ],
      "execution_count": 50,
      "outputs": [
        {
          "output_type": "stream",
          "text": [
            "Descubra se você acerta qual numero eu estou pensando entre 0 e 10: 1\n",
            "Você escolheu 1 e Perdeu\n"
          ],
          "name": "stdout"
        }
      ]
    },
    {
      "cell_type": "markdown",
      "metadata": {
        "id": "mjLFAUooaOH1"
      },
      "source": [
        "## **Desafio 03**\n",
        "\n",
        "**Caixa eletrônico**\n",
        "\n",
        "Faça um Programa para um caixa eletrônico. O programa deverá perguntar ao usuário a valor do saque e depois informar quantas notas de cada valor serão fornecidas. As notas disponíveis serão as de 1, 5, 10, 50 e 100 reais. O valor mínimo é de 10 reais e o máximo de 600 reais. O programa não deve se preocupar com a quantidade de notas existentes na máquina.\n",
        "\n",
        "* Exemplo 1: Para sacar a quantia de 256 reais, o programa fornece duas notas de 100, uma nota de 50, uma nota de 5 e uma nota de 1;\n",
        "\n",
        "* Exemplo 2: Para sacar a quantia de 399 reais, o programa fornece três notas de 100, uma nota de 50, quatro notas de 10, uma nota de 5 e quatro notas de 1.\n",
        "\n"
      ]
    },
    {
      "cell_type": "code",
      "metadata": {
        "id": "sH65bTx-ZMLh",
        "colab": {
          "base_uri": "https://localhost:8080/"
        },
        "outputId": "db5a267c-bba3-40d1-f7e0-c8ad54212645"
      },
      "source": [
        "n = float(input(\"Digite o valor de saque : R$ \").replace(\",\",\".\"))\n",
        "m1 = n // 100\n",
        "m2 = (n % 100) / 50\n",
        "m3 = ((n % 100) % 50) / 10\n",
        "m4 = (((n % 100) % 50) %10) / 5\n",
        "m5 = ((((n % 100) % 50) % 10) % 5) / 1\n",
        "\n",
        "if n < 10 or n > 600:\n",
        "  print(\"Valor incorreto\")\n",
        "else:\n",
        "  print(f'''\n",
        "  Você irá sacar {n} em notas de\n",
        "  {m1:.0f} Notas de R$ 100.0\n",
        "  {m2:.0f} Notas de R$ 50.0\n",
        "  {m3:.0f} Notas de R$ 10.0\n",
        "  {m4:.0f} Notas de R$ 5.0\n",
        "  {m5:.0f} Notas de R$ 1.0\n",
        "  ''') \n",
        "  "
      ],
      "execution_count": 40,
      "outputs": [
        {
          "output_type": "stream",
          "text": [
            "Digite o valor de saque : R$ 11\n",
            "\n",
            "  Você irá sacar 11.0 em notas de\n",
            "  0 Notas de R$ 100.0\n",
            "  0 Notas de R$ 50.0\n",
            "  1 Notas de R$ 10.0\n",
            "  0 Notas de R$ 5.0\n",
            "  1 Notas de R$ 1.0\n",
            "  \n"
          ],
          "name": "stdout"
        }
      ]
    },
    {
      "cell_type": "code",
      "metadata": {
        "id": "4tK6oYy6pyq_"
      },
      "source": [
        ""
      ],
      "execution_count": null,
      "outputs": []
    }
  ]
}