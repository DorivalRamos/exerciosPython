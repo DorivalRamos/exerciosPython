{
  "nbformat": 4,
  "nbformat_minor": 0,
  "metadata": {
    "colab": {
      "name": "Exercicios_String.ipynb",
      "provenance": [],
      "include_colab_link": true
    },
    "kernelspec": {
      "name": "python3",
      "display_name": "Python 3"
    },
    "language_info": {
      "name": "python"
    }
  },
  "cells": [
    {
      "cell_type": "markdown",
      "metadata": {
        "id": "view-in-github",
        "colab_type": "text"
      },
      "source": [
        "<a href=\"https://colab.research.google.com/github/DorivalRamos/exerciosPython/blob/main/Exercicios_String.ipynb\" target=\"_parent\"><img src=\"https://colab.research.google.com/assets/colab-badge.svg\" alt=\"Open In Colab\"/></a>"
      ]
    },
    {
      "cell_type": "markdown",
      "metadata": {
        "id": "wbV2YraddQOF"
      },
      "source": [
        "01 - Considere a string A = \"Os limites só existem se você os deixar existir.(goku)\".\n",
        "\n",
        "Que fatia corresponde a (goku)?"
      ]
    },
    {
      "cell_type": "code",
      "metadata": {
        "colab": {
          "base_uri": "https://localhost:8080/"
        },
        "id": "vsvVTFJsd6M1",
        "outputId": "02ab8278-c67b-48d0-d233-7c429e582963"
      },
      "source": [
        "A = \"Os limites só existem se você os deixar existir.(goku)\"\n",
        "print(A.find(\"(goku)\"))"
      ],
      "execution_count": 6,
      "outputs": [
        {
          "output_type": "stream",
          "text": [
            "48\n",
            ")\n"
          ],
          "name": "stdout"
        }
      ]
    },
    {
      "cell_type": "markdown",
      "metadata": {
        "id": "2hA2Tw6sdR95"
      },
      "source": [
        "02 - Escreva um programa que solicite uma frase ao usuário e escreva a frase toda em maiúscula e sem espaços em branco."
      ]
    },
    {
      "cell_type": "code",
      "metadata": {
        "colab": {
          "base_uri": "https://localhost:8080/"
        },
        "id": "EEZeyiFoe6d3",
        "outputId": "ea196ec6-c39e-4947-ebc5-4af5fa12e610"
      },
      "source": [
        "n = str(input(\"Escreva seu nome : \")).upper().strip()\n",
        "print(n)"
      ],
      "execution_count": 9,
      "outputs": [
        {
          "output_type": "stream",
          "text": [
            "Escreva seu nome :      dorival\n",
            "DORIVAL\n"
          ],
          "name": "stdout"
        }
      ]
    },
    {
      "cell_type": "markdown",
      "metadata": {
        "id": "EntkYdeSdT_j"
      },
      "source": [
        "03 - Elabore um programa que recebe o seu nome, endereço e hobby e mostra cada uma das informações da seguinte forma:\n",
        "- Nome -> Letra maiúscula\n",
        "- Endereço -> Letra minúscula\n",
        "- Hobby -> Primeira letra maiúscula\n",
        "\n",
        "**Exemplo Entrada:**\n",
        "```\n",
        "Nome: bruno fabri\n",
        "Endereço: Rua ABC\n",
        "Hobby: jogar cs\n",
        "```\n",
        "\n",
        "**Exemplo Saída:**\n",
        "```\n",
        "Nome: BRUNO FABRI\n",
        "Endereço: rua abc\n",
        "Hobby: Jogar cs\n",
        "```"
      ]
    },
    {
      "cell_type": "code",
      "metadata": {
        "colab": {
          "base_uri": "https://localhost:8080/"
        },
        "id": "Y_bQ71Enfk7o",
        "outputId": "8223d149-d194-4601-8c79-5d6b0aca21a7"
      },
      "source": [
        "n = str(input(\"Digite seu nome: \")).upper()\n",
        "n2 = str(input(\"Digite seu endereço: \")).lower()\n",
        "n3 = str(input(\"Digite seu hobby: \")).capitalize()\n",
        "print(f'''\n",
        "Nome: {n}\n",
        "Endereço: {n2} \n",
        "Hobby: {n3}''')"
      ],
      "execution_count": 13,
      "outputs": [
        {
          "output_type": "stream",
          "text": [
            "Digite seu nome: dorival\n",
            "Digite seu endereço: Rua ABC\n",
            "Digite seu hobby: Jogar CS\n",
            "\n",
            "Nome: DORIVAL\n",
            "Endereço: rua abc \n",
            "Hobby: Jogar cs\n"
          ],
          "name": "stdout"
        }
      ]
    }
  ]
}